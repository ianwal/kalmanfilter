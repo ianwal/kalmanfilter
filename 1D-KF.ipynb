{
 "cells": [
  {
   "attachments": {},
   "cell_type": "markdown",
   "metadata": {},
   "source": [
    "### Estimate as a Random Variable\n",
    "\n",
    "- We can't calculate the estimate error (diff between real and estimate) but we can estimate the uncertainty\n",
    "    - p = state estimate variance\n",
    "\n",
    "- r = Measurement uncertainty = std dv. of measurement errors \n",
    "- The variance of the measurement errors is specific to the measurement equipment\n",
    "    - Does not have to be constant, it can be calculated based on other factors\n",
    "\n",
    "\n",
    "### State Prediction\n",
    "\n",
    "- Need to extrapolate the state estimate variance during state prediction as well as the estimate\n",
    "\n",
    "In the first example, the gold bar dynamic model is constant so the x_p_next = x_p\n",
    "\n",
    "In the second example, \n",
    "\n",
    "x_p_next = x_p_est + (dt * dt) * xDot_p\n",
    "xDot_p_next = xDot_p\n",
    "\n",
    "These equations which are the estimate uncertainty extrapolation equation are called the covariance extrapolation equation (3rd of 5 KF equations).\n",
    "\n",
    "### State Update\n",
    "\n",
    "- Current state estimate x_Est  "
   ]
  }
 ],
 "metadata": {
  "kernelspec": {
   "display_name": "Python 3",
   "language": "python",
   "name": "python3"
  },
  "language_info": {
   "name": "python",
   "version": "3.11.3"
  },
  "orig_nbformat": 4
 },
 "nbformat": 4,
 "nbformat_minor": 2
}
