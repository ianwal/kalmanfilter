{
 "cells": [
  {
   "cell_type": "code",
   "execution_count": 147,
   "metadata": {},
   "outputs": [],
   "source": [
    "'''\n",
    "# https://www.kalmanfilter.net/alphabeta.html\n",
    "# Estimate the state of a static system\n",
    "\n",
    "# Estimate current state\n",
    "# Predict the next state\n",
    "'''\n",
    "\n",
    "import numpy as np\n",
    "import matplotlib.pyplot as plt\n",
    "import random\n",
    "\n",
    "'''\n",
    "# State Update Equation (estimate of the current state)\n",
    "# Estimate = Predicted value + kalmangain(measurement - predicted value)\n",
    "#xEst = xPrev + (1/t)(z-xPrev)\n",
    "\n",
    "# Estimation Algorithm \n",
    "# 0. Initialize - Input: System State and Initial Guess\n",
    "# 1. Measure - Input: Measured Value\n",
    "# 2. Update - Calculate the kalman gain then estimate the current state using the state update equation\n",
    "# Output system state estimate\n",
    "# 3. Predict -  Calculate the predicted state for the next iteration using the system's dynamic model\n",
    "'''\n"
   ]
  },
  {
   "cell_type": "code",
   "execution_count": 148,
   "metadata": {},
   "outputs": [
    {
     "name": "stdout",
     "output_type": "stream",
     "text": [
      "1: Est x: [1952.85784829] Error: [95.28578483]% Measurement err:[95.28578483]% \n",
      "2: Est x: [1371.58637129] Error: [37.15863713]% Measurement err:[20.96851057]% \n",
      "3: Est x: [1385.46369806] Error: [38.54636981]% Measurement err:[41.32183516]% \n",
      "4: Est x: [1231.56535409] Error: [23.15653541]% Measurement err:[23.01296778]% \n",
      "5: Est x: [1267.40565427] Error: [26.74056543]% Measurement err:[41.0766855]% \n",
      "6: Est x: [1200.31092418] Error: [20.03109242]% Measurement err:[13.51627263]% \n",
      "7: Est x: [1204.4558263] Error: [20.44558263]% Measurement err:[22.93252391]% \n",
      "8: Est x: [1164.24553487] Error: [16.42455349]% Measurement err:[11.72265052]% \n",
      "9: Est x: [1068.04111821] Error: [6.80411182]% Measurement err:[70.15942151]% \n",
      "10: Est x: [1047.49433574] Error: [4.74943357]% Measurement err:[13.74267064]% \n",
      "11: Est x: [978.04239259] Error: [2.19576074]% Measurement err:[71.6477039]% \n",
      "12: Est x: [975.76565965] Error: [2.42343404]% Measurement err:[4.92784027]% \n",
      "13: Est x: [985.03896478] Error: [1.49610352]% Measurement err:[9.63186263]% \n",
      "14: Est x: [952.3612965] Error: [4.76387035]% Measurement err:[47.24483911]% \n",
      "9996: Est x: [1003.41796065] Error: [0.34179606]% Measurement err:[34.99830787]% \n",
      "9997: Est x: [1003.39250187] Error: [0.33925019]% Measurement err:[25.10934546]% \n",
      "9998: Est x: [1003.39238648] Error: [0.33923865]% Measurement err:[0.22388957]% \n",
      "9999: Est x: [1003.3496965] Error: [0.33496965]% Measurement err:[42.34647441]% \n"
     ]
    }
   ],
   "source": [
    "# Example 1: Static State\n",
    "# Estimating the weight of a gold bar that we know weighs 1000kg \n",
    "\n",
    "# True state\n",
    "x = 1000\n",
    "\n",
    "# Initial Guess at t=0. initial = x because its not supposed to change\n",
    "initial = x\n",
    "\n",
    "# Measured value of the weight at t\n",
    "z = None\n",
    "\n",
    "# 1/t calculated each iteration\n",
    "statemodel = None\n",
    "\n",
    "# xhat-1\n",
    "xPrev = None\n",
    "\n",
    "# Because this example is static, we don't expect it to change\n",
    "xPrev = initial\n",
    "\n",
    "# xhat\n",
    "xEst = None\n",
    "\n",
    "for t in range(1, 10000):\n",
    "    # Weigh and measure\n",
    "    z = np.random.normal(x, x/2, 1)\n",
    "\n",
    "    xEst = xPrev + (1/t) * (z - xPrev)\n",
    "    xPrev = xEst\n",
    "    \n",
    "    # Print only the first and last few iterations\n",
    "    if t < 15 or t > 9995:\n",
    "        print(f\"{t}: Est x: {xEst} Error: {(abs(xEst-x)/x)*100}% Measurement err:{(abs(z-x)/x)*100}% \")"
   ]
  }
 ],
 "metadata": {
  "kernelspec": {
   "display_name": "Python 3",
   "language": "python",
   "name": "python3"
  },
  "language_info": {
   "codemirror_mode": {
    "name": "ipython",
    "version": 3
   },
   "file_extension": ".py",
   "mimetype": "text/x-python",
   "name": "python",
   "nbconvert_exporter": "python",
   "pygments_lexer": "ipython3",
   "version": "3.11.3"
  },
  "orig_nbformat": 4
 },
 "nbformat": 4,
 "nbformat_minor": 2
}
